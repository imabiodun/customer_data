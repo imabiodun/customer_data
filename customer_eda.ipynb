{
 "cells": [
  {
   "cell_type": "markdown",
   "metadata": {
    "tags": []
   },
   "source": [
    "## Content\n",
    "[1. Introduction ](#1)\n",
    "\n",
    "[2. Libraries](#2)\n",
    "  * [2.1 Insights & Summary](#2.11)\n",
    "\n",
    "[3. Feature Engineering](#3)\n",
    "  * [3.1 ](#3.1)\n",
    "\n",
    "[4. Exploratory Data Analysis ](#3)\n",
    "  * [4.1 Question 1](#3.1)\n",
    "  * [4.2 Question 2](#3.2)\n",
    "  * [4.3 Question 3](#3.3)\n"
   ]
  },
  {
   "cell_type": "markdown",
   "metadata": {},
   "source": [
    "<a id='#1'></a>\n",
    "**ShopSmart Inc.** is an e-commerce platform that sells a variety of products online. The company aims to optimize its website and enhance customer satisfaction by understanding customer behavior and preferences. \n",
    "\n",
    "To achieve this goal, ShopSmart Inc. plans to analyze the data collected from its website to gain insights into customer interactions, purchasing patterns, and product preferences.\n",
    "\n",
    "\n",
    "Project Objective: The objective of this project is to utilize data from ShopSmart Inc.'s website to understand customer behavior and preferences. By analyzing the data, the company aims to:\n",
    "1.     Segment customers based on their preferences, geographic location, and purchasing behavior.\n",
    "2.     Enhance website usability and user experience based on insights gained from customer interactions.\n",
    "3.     Optimize product offerings and marketing strategies to improve customer satisfaction and retention.\n"
   ]
  },
  {
   "cell_type": "markdown",
   "metadata": {},
   "source": [
    "## 1. Libraries \n",
    "<a id=\"1\"></a>"
   ]
  },
  {
   "cell_type": "code",
   "execution_count": null,
   "metadata": {
    "scrolled": true
   },
   "outputs": [],
   "source": [
    "# !pip install a-world-of-countries\n",
    "import numpy as np\n",
    "import pandas as pd\n",
    "import json\n",
    "import matplotlib.pyplot as plt\n",
    "import missingno\n",
    "import plotly.graph_objects as go\n",
    "import plotly.express as px\n",
    "import awoc\n",
    "import seaborn as sns\n",
    "import warnings\n",
    "from  IPython.display import display,Markdown"
   ]
  },
  {
   "cell_type": "code",
   "execution_count": 5,
   "metadata": {},
   "outputs": [
    {
     "ename": "NameError",
     "evalue": "name 'warnings' is not defined",
     "output_type": "error",
     "traceback": [
      "\u001b[1;31m---------------------------------------------------------------------------\u001b[0m",
      "\u001b[1;31mNameError\u001b[0m                                 Traceback (most recent call last)",
      "Cell \u001b[1;32mIn[5], line 1\u001b[0m\n\u001b[1;32m----> 1\u001b[0m warnings\u001b[38;5;241m.\u001b[39mfilterwarnings(\u001b[38;5;124m'\u001b[39m\u001b[38;5;124mignore\u001b[39m\u001b[38;5;124m'\u001b[39m)\n\u001b[0;32m      2\u001b[0m \u001b[38;5;28;01mdef\u001b[39;00m \u001b[38;5;21mprintmd\u001b[39m(value):\n\u001b[0;32m      3\u001b[0m     display(Markdown(value))\n",
      "\u001b[1;31mNameError\u001b[0m: name 'warnings' is not defined"
     ]
    }
   ],
   "source": [
    "warnings.filterwarnings('ignore')\n",
    "def printmd(value):\n",
    "    display(Markdown(value))\n",
    "    \n",
    "sns.set_theme(style=\"white\", palette=\"pastel\")\n",
    "\n",
    "sns.set_palette('dark')\n",
    "\n",
    "def get_continent(location):\n",
    "    for obj in all_countries:\n",
    "        if obj['Country Name'] == location:\n",
    "            return obj['Continent Name']\n",
    "    else:\n",
    "        if location == 'Korea':\n",
    "            return 'Asia'\n",
    "        elif location == 'United States of America':\n",
    "            return 'North America'\n",
    "        return 'Other Islands'\n",
    "        \n",
    "def added_removed(feature_name1):\n",
    "    product_added = pd.pivot(data=new_data[new_data['event_type'] == 'add_to_cart'], values=feature_name1,columns='continent').mode().stack()[0]\n",
    "    product_removed = pd.pivot(\n",
    "        data=new_data[new_data['event_type'] == 'remove_from_cart'],\n",
    "        values=feature_name1, columns='continent').mode().stack()[0]\n",
    "    product_result = pd.concat([\n",
    "        product_added,product_removed],axis=1, \n",
    "        ignore_index=True,names=['added to cart','removed from cart'])\n",
    "    \n",
    "    printmd('Each **CONTINENT** and the product customers **ADDED TO AND REMOVED FROM CART**:\\n')\n",
    "    display(product_result.reset_index().rename(columns={'level_0': 'continent', 0: 'added to cart',1:'removed from cart'}))\n",
    "    print('')\n",
    "\n",
    "def get_max_n_min_product(feature,feature_name):\n",
    "    brand_max =  new_data[new_data['event_type'] == feature]['brand'].mode()[0]\n",
    "    brand_min = new_data[new_data['event_type'] == feature]['brand'].value_counts().idxmin()\n",
    "    res_max = new_data[new_data['event_type'] == feature]['product_name'].mode()[0]\n",
    "    res_min = new_data[new_data['event_type'] == feature]['product_name'].value_counts().idxmin()\n",
    "    \n",
    "    printmd('The ***most {} brand*** is **{}**'.format(feature_name,brand_max))\n",
    "    printmd('The ***least {} brand*** is **{}**'.format(feature_name,brand_min))\n",
    "    print('')\n",
    "    printmd('The ***most {} product*** is **{}**'.format(feature_name,res_max))\n",
    "    printmd('The ***least {} product*** is **{}**'.format(feature_name,res_min))\n",
    "\n",
    "def unlock_df(df_name):\n",
    "    new_data = df_name['event_data'].apply(json.loads)\n",
    "    event_df = pd.DataFrame(item for item in new_data)\n",
    "    return event_df\n",
    "\n",
    "def visited_checkout_product(feature_name1):\n",
    "    product_visit = pd.pivot(data=event_visit_type, values=feature_name1, columns='continent').mode().stack()[0]\n",
    "    product_checkout = pd.pivot(data=checkedout, values=feature_name1, columns='continent').mode().stack()[0]\n",
    "    product_result = pd.concat([product_visit,product_checkout],axis=1, ignore_index=True,names=['visit','checkout'])\n",
    "    \n",
    "    printmd('Each **CONTINENT** and the product customers **VISITED THE MOST**:\\n')\n",
    "    display(product_result.reset_index().rename(columns={'level_0': 'continent', 0: 'most visited brand',1:'most checked out'}))\n",
    "    print('')\n",
    "    printmd('Three brands seem to be the most visited in the continents. More of these brands should be made available to the continents and countries.')\n",
    "\n",
    "def get_percentages(d_series):\n",
    "    return round(d_series/d_series.sum()*100,2)"
   ]
  },
  {
   "cell_type": "markdown",
   "metadata": {},
   "source": [
    "#### import files"
   ]
  },
  {
   "cell_type": "code",
   "execution_count": null,
   "metadata": {},
   "outputs": [],
   "source": [
    "customers = pd.read_csv('customers.csv')\n",
    "events = pd.read_csv('events.csv')\n",
    "line_items = pd.read_csv('line_items.csv')\n",
    "orders = pd.read_csv('orders.csv')\n",
    "products = pd.read_csv('products.csv')"
   ]
  },
  {
   "cell_type": "code",
   "execution_count": null,
   "metadata": {},
   "outputs": [],
   "source": [
    "customers.info()"
   ]
  },
  {
   "cell_type": "code",
   "execution_count": null,
   "metadata": {},
   "outputs": [],
   "source": [
    "products.info()"
   ]
  },
  {
   "cell_type": "code",
   "execution_count": null,
   "metadata": {
    "scrolled": true
   },
   "outputs": [],
   "source": [
    "events.info()"
   ]
  },
  {
   "cell_type": "code",
   "execution_count": null,
   "metadata": {},
   "outputs": [],
   "source": [
    "orders.info()"
   ]
  },
  {
   "cell_type": "code",
   "execution_count": null,
   "metadata": {},
   "outputs": [],
   "source": [
    "line_items.info()"
   ]
  },
  {
   "cell_type": "code",
   "execution_count": null,
   "metadata": {
    "scrolled": true
   },
   "outputs": [],
   "source": [
    "# Merge the customers, events, line_items, orders, and products tables on the customer_id column\n",
    "merged_data = pd.merge(customers, events, on='customer_id', how='outer') # merged customers and events\n",
    "merged_data = pd.merge(merged_data, orders, on='customer_id', how='outer') # merged above and customer_id\n",
    "merged_data = pd.merge(merged_data, line_items, on='order_id', how='outer') # merged above and order_id\n",
    "merged_data = pd.merge(merged_data, products, left_on='item_id', right_on='id', how='outer') # merged above and item_id\n",
    "\n",
    "merged_data.info()"
   ]
  },
  {
   "cell_type": "code",
   "execution_count": null,
   "metadata": {},
   "outputs": [],
   "source": []
  },
  {
   "cell_type": "code",
   "execution_count": null,
   "metadata": {},
   "outputs": [],
   "source": [
    "merged_data.rename(columns={'name':'product_name', 'location':'country'},inplace=True) # rename some of the column names"
   ]
  },
  {
   "cell_type": "code",
   "execution_count": null,
   "metadata": {},
   "outputs": [],
   "source": [
    "merged_data.info()"
   ]
  },
  {
   "cell_type": "code",
   "execution_count": null,
   "metadata": {},
   "outputs": [],
   "source": [
    "new_data = pd.concat([merged_data,unlock_df(merged_data).drop(['status','quantity','order_id','item_id'], axis=1)],axis=1).drop(['event_data','item_id','id','line_item_id','event_timestamp'],axis=1)\n",
    "new_data.head()"
   ]
  },
  {
   "cell_type": "code",
   "execution_count": null,
   "metadata": {},
   "outputs": [],
   "source": [
    "printmd('**Missing Value Percentages**')\n",
    "(new_data.isna().sum()/new_data.shape[0]*100).sort_values(ascending=False)"
   ]
  },
  {
   "cell_type": "code",
   "execution_count": null,
   "metadata": {},
   "outputs": [],
   "source": [
    "new_data['quantity'] = new_data['quantity'].fillna(0).astype(int)"
   ]
  },
  {
   "cell_type": "code",
   "execution_count": null,
   "metadata": {},
   "outputs": [],
   "source": [
    "new_data.describe()"
   ]
  },
  {
   "cell_type": "code",
   "execution_count": null,
   "metadata": {},
   "outputs": [],
   "source": [
    "new_data.describe(exclude='number').T"
   ]
  },
  {
   "cell_type": "code",
   "execution_count": null,
   "metadata": {},
   "outputs": [],
   "source": []
  },
  {
   "cell_type": "code",
   "execution_count": null,
   "metadata": {},
   "outputs": [],
   "source": [
    "printmd(f'The number of duplicate rows = {len(new_data[new_data.duplicated()])}')"
   ]
  },
  {
   "cell_type": "code",
   "execution_count": null,
   "metadata": {},
   "outputs": [],
   "source": [
    "missingno.heatmap(new_data)"
   ]
  },
  {
   "cell_type": "code",
   "execution_count": null,
   "metadata": {},
   "outputs": [],
   "source": [
    "new_data['currency'] = new_data['currency'].astype('category')"
   ]
  },
  {
   "cell_type": "markdown",
   "metadata": {},
   "source": [
    "### Date Time Transformation"
   ]
  },
  {
   "cell_type": "code",
   "execution_count": null,
   "metadata": {},
   "outputs": [],
   "source": [
    "new_data['timestamp'] = pd.to_datetime(new_data['timestamp'],format='%Y-%m-%dT%H:%M:%S.%f')\n",
    "new_data['checked_out_at'] = pd.to_datetime(new_data['checked_out_at'], format='%Y-%m-%d %H:%M:%S.%f')"
   ]
  },
  {
   "cell_type": "code",
   "execution_count": null,
   "metadata": {},
   "outputs": [],
   "source": [
    "printmd(f'Dataset start date = {new_data[\"timestamp\"].dt.date.min()}')\n",
    "printmd(f'Dataset end date = {new_data[\"timestamp\"].dt.date.max()}')\n",
    "printmd(f'Dataset Spanning Through {new_data[\"timestamp\"].dt.date.max() - new_data[\"timestamp\"].dt.date.min()}')"
   ]
  },
  {
   "cell_type": "code",
   "execution_count": null,
   "metadata": {},
   "outputs": [],
   "source": [
    "new_data['day'] = new_data['timestamp'].dt.day_name()"
   ]
  },
  {
   "cell_type": "markdown",
   "metadata": {},
   "source": [
    "### Feature Engineering\n",
    "<a id=2></a>"
   ]
  },
  {
   "cell_type": "code",
   "execution_count": null,
   "metadata": {},
   "outputs": [],
   "source": [
    "country = new_data['country']\n",
    "country = country.apply(lambda x: x.split('(')[0].strip())\n",
    "# Replace country names so as to get them from awoc library\n",
    "country.replace({'United States of America': 'United States',\n",
    "                     'Congo': 'Democratic Republic of the Congo',\n",
    "                     \"Lao People's Democratic Republic\":'Laos',\n",
    "                     \"Brunei Darussalam\":'Brunei',\n",
    "                     \"Kyrgyz Republic\":'Kyrgyzstan',\n",
    "                     \"Macao\":'Macau',\n",
    "                     \"Palestinian Territory\":\"Palestine\",\n",
    "                     \"Syrian Arab Republic\":'Syria',\n",
    "                     \"Cote d'Ivoire\":'Ivory Coast',\n",
    "                     'Russian Federation':'Russia',\n",
    "                     \"North Macedonia\":'Macedonia', \n",
    "                     'South Korea':'Korea',\n",
    "                     'North Korea':'Korea',\n",
    "                     'Cocos':'Cocos Islands',\n",
    "                     \"Libyan Arab Jamahiriya\":'Libya'}, inplace=True)\n"
   ]
  },
  {
   "cell_type": "code",
   "execution_count": null,
   "metadata": {},
   "outputs": [],
   "source": [
    "all_countries = awoc.AWOC().get_countries() # get dictionary of all countries\n",
    "\n"
   ]
  },
  {
   "cell_type": "code",
   "execution_count": null,
   "metadata": {},
   "outputs": [],
   "source": [
    "new_data['continent'] = country.apply(get_continent)\n",
    "new_data['country'].replace({'Democratic Republic of the Congo':'Congo'},inplace=True)"
   ]
  },
  {
   "cell_type": "code",
   "execution_count": null,
   "metadata": {},
   "outputs": [],
   "source": [
    "new_data['price_range'] = pd.qcut(new_data.price,3, labels=['low','mid','high']) # separating prices into three price range "
   ]
  },
  {
   "cell_type": "code",
   "execution_count": null,
   "metadata": {},
   "outputs": [],
   "source": [
    "new_data['product_name'].replace({'iPhone 13':'Apple iPhone 13'}, inplace=True) # Added brand name to iPhone"
   ]
  },
  {
   "cell_type": "code",
   "execution_count": null,
   "metadata": {},
   "outputs": [],
   "source": [
    "new_data['brand'] = new_data['product_name'].apply(lambda x : x.split(' ')[0] if not pd.isna(x) else x) # extract brand name from products"
   ]
  },
  {
   "cell_type": "code",
   "execution_count": null,
   "metadata": {},
   "outputs": [],
   "source": [
    "new_data['number_of_days_transaction'] = np.ceil(new_data.groupby('customer_id')['timestamp'].\\\n",
    "                                                  transform(lambda x:np.ptp(x)).dt.total_seconds()/86400) #86400 is the total seconds in a day"
   ]
  },
  {
   "cell_type": "code",
   "execution_count": null,
   "metadata": {},
   "outputs": [],
   "source": [
    "new_data['total_order_price'] = new_data['quantity'] * new_data['price']"
   ]
  },
  {
   "cell_type": "code",
   "execution_count": null,
   "metadata": {},
   "outputs": [],
   "source": [
    "ax = new_data['price_range'].value_counts().plot(kind='bar',figsize=(15,5))\n",
    "plt.xticks(rotation=0)\n",
    "plt.xlabel('Price Range')\n",
    "plt.title('Price Range Count')\n",
    "ax.spines['top'].set_visible(False)\n",
    "ax.spines['right'].set_visible(False)\n",
    "plt.grid(axis='y', linestyle='--', linewidth=0.5)"
   ]
  },
  {
   "cell_type": "markdown",
   "metadata": {},
   "source": [
    "## 3. EDA \n",
    "<a id=\"3\"></a>"
   ]
  },
  {
   "cell_type": "code",
   "execution_count": null,
   "metadata": {},
   "outputs": [],
   "source": [
    "printmd('Of all transaction performed, **total of customers** are **{1}** <br> **Total devices** used on the sites are **{0}** <br>**Total transactions** are **{2}**'\n",
    "        .format(new_data['device_id'].nunique(),new_data['customer_id'].nunique(),new_data['order_id'].nunique()))"
   ]
  },
  {
   "cell_type": "code",
   "execution_count": null,
   "metadata": {},
   "outputs": [],
   "source": [
    "# price distribution\n",
    "ax = sns.histplot(new_data['price'],bins=4)\n",
    "ax.set_title('Price Distribution')\n",
    "ax.spines['top'].set_visible(False)\n",
    "ax.spines['right'].set_visible(False)"
   ]
  },
  {
   "cell_type": "code",
   "execution_count": null,
   "metadata": {},
   "outputs": [],
   "source": [
    "# Revenue Distribution\n",
    "plt.figure(figsize=(15,5))\n",
    "ax = sns.histplot(data = new_data['total_order_price'],bins=20)\n",
    "ax.set_title('Total Order Distribution')"
   ]
  },
  {
   "cell_type": "markdown",
   "metadata": {},
   "source": [
    "The"
   ]
  },
  {
   "cell_type": "code",
   "execution_count": null,
   "metadata": {},
   "outputs": [],
   "source": [
    "corr_features = ['quantity','price','number_of_days_transaction']\n",
    "new_data[corr_features].corr()"
   ]
  },
  {
   "cell_type": "markdown",
   "metadata": {},
   "source": [
    "##### There are just little correclation between the price, the quantity checked out and number of days of transaction"
   ]
  },
  {
   "cell_type": "code",
   "execution_count": null,
   "metadata": {},
   "outputs": [],
   "source": [
    "# correlation between price and quantity of product bought\n",
    "sns.scatterplot(data=new_data[new_data['event_type'] == 'checkout'], x='quantity',y='price', hue='status')\n",
    "printmd('There is no difference in the price and the quantity of products checked out')"
   ]
  },
  {
   "cell_type": "code",
   "execution_count": null,
   "metadata": {},
   "outputs": [],
   "source": [
    "sns.barplot(new_data['event_type'].value_counts())"
   ]
  },
  {
   "cell_type": "markdown",
   "metadata": {},
   "source": [
    "From the figure above, <b>Africa</b> has the <b>highest number of transaction</b> which may be due to the fact that Africa has the highest number of countries, followed by <b>Asia</b> and <b>Antarctica</b> is the <b>lowest</b>"
   ]
  },
  {
   "cell_type": "markdown",
   "metadata": {},
   "source": [
    "### 3.1 Visit Frequency \n",
    "<!-- <a id=\"3.1\"></a> -->\n",
    "- How often does this customer visit the website, based on the provided data?\n",
    "- Can you identify any patterns or trends in the customer's visit frequency?\n"
   ]
  },
  {
   "cell_type": "code",
   "execution_count": null,
   "metadata": {},
   "outputs": [],
   "source": [
    "#get the event type which are equal to visit\n",
    "event_visit_type = new_data[new_data['event_type'] == 'visit']\n",
    "event_visit_type.head()"
   ]
  },
  {
   "cell_type": "code",
   "execution_count": null,
   "metadata": {},
   "outputs": [],
   "source": [
    "visit_day_number = event_visit_type.groupby('number_of_days_transaction')['customer_id'].nunique()\n",
    "\n",
    "percentages = get_percentages(visit_day_number)\n",
    "fig = px.bar(x=visit_day_number.index,y=visit_day_number.values,text=percentages.apply(lambda x :str(x) + '%'))\n",
    "\n",
    "fig.update_layout(title='Number of visits days by customers',xaxis_title='Number of Days of Transaction',yaxis_title='Count')\n",
    "fig.show()"
   ]
  },
  {
   "cell_type": "code",
   "execution_count": null,
   "metadata": {},
   "outputs": [],
   "source": [
    "printmd(f\"**{percentages.iloc[0]}%** of the customers visit the website for **just one day** while it can be seen that there is an increase in some customers visit after **day 2** till **day 11** after which there is almost absolute drop to zero. \\nThe means that customers **if they dont finish their transaction on same day may take up to 11 days to** to make decision on the products they want to purchase\")"
   ]
  },
  {
   "cell_type": "code",
   "execution_count": null,
   "metadata": {},
   "outputs": [],
   "source": [
    "ax = event_visit_type['timestamp'].dt.day_name().value_counts().sort_values(ascending=False).plot(kind='bar',figsize=(15,5))\n",
    "plt.title('Daily Customers interaction with websites')\n",
    "plt.xticks(rotation=0)\n",
    "plt.xlabel('Day of the week')\n",
    "plt.ylabel('Customer Visit count')\n",
    "ax.spines['top'].set_visible(False)\n",
    "ax.spines['right'].set_visible(False)\n",
    "plt.grid(axis='y', linestyle='--', linewidth=0.5)\n",
    "plt.show()\n",
    "printmd('The website is <b>VISITED</b> mostly on <b>SATURDAY</b> while <b>SUNDAY</b> has the <b>LEAST VISIT</b>')"
   ]
  },
  {
   "cell_type": "code",
   "execution_count": null,
   "metadata": {},
   "outputs": [],
   "source": [
    "ax = event_visit_type['timestamp'].dt.hour.plot(kind='hist',bins=4)\n",
    "mode_hour = new_data['timestamp'].dt.hour.mode()[0]\n",
    "plt.axvline(mode_hour, color='b', linestyle='--', label='Mode(Hour)')\n",
    "plt.legend()\n",
    "ax.set_xlabel('Hours')\n",
    "plt.show()\n",
    "\n",
    "printmd('Customers visit the websites mostly during the <b>FIRST QUARTER</b> of the day which is between <b>12 AM</b> to <b>6 AM</b> and the **highest visit** being <b>4 AM</b>')"
   ]
  },
  {
   "cell_type": "code",
   "execution_count": null,
   "metadata": {},
   "outputs": [],
   "source": [
    "product_visit = pd.pivot(data=event_visit_type, values='product_name', columns='country').mode().stack()[0]\n",
    "printmd('Each <b>COUNTRY</b> and the product customers <b>VISITED THE MOST</b>:\\n')\n",
    "product_visit.reset_index(name='most visited product')"
   ]
  },
  {
   "cell_type": "code",
   "execution_count": null,
   "metadata": {},
   "outputs": [],
   "source": [
    "visit_status = event_visit_type.groupby('status')['customer_id'].nunique()\n",
    "fig = go.Figure(data=go.Pie(labels=visit_status.index, values=visit_status, hole=0.5))\n",
    "fig.update_layout(title = 'Visit with Checkout Status of customers')\n",
    "fig.show()"
   ]
  },
  {
   "cell_type": "code",
   "execution_count": null,
   "metadata": {},
   "outputs": [],
   "source": [
    "printmd('Out of the **1000 customers**, **successful transaction (32.7%)**, **failed transaction (33.6%)** while **cancelled (33.7%)** ')\n",
    "printmd('The likelihood of a customer visiting and successfully purchasing a product is slim as the amount of failed and cancelled are more than the number of success')"
   ]
  },
  {
   "cell_type": "code",
   "execution_count": null,
   "metadata": {},
   "outputs": [],
   "source": [
    "visit_country = event_visit_type.groupby('continent')['customer_id'].nunique().sort_values(ascending=False)\n",
    "percentages = get_percentages(visit_country)\n",
    "fig = go.Figure(data=go.Bar(x=visit_country.index, y=visit_country.values, text=percentages.apply(lambda y :str(y) + '%')))\n",
    "fig.update_layout(title = 'Visit with Status count of customers')\n",
    "fig.show()"
   ]
  },
  {
   "cell_type": "code",
   "execution_count": null,
   "metadata": {},
   "outputs": [],
   "source": [
    "printmd(f'Most of the visits to the website are customers from **{percentages.index[0]} ({percentages.values[0]}%)**, **{percentages.index[1]} ({percentages.values[1]}%)** and **{percentages.index[2]} \n",
    "({percentages.values[2]}%)** making the **top 3** of the continents that visits the website')\n",
    "\n",
    "printmd(\"Customers from **Africa**, are the **highest visitor**, followed by Asian customers and Europe, the place where customers are least is the Antarctica, This is expected as the amount of counrties in Africa are more than than Asia and Asia are more than others\")"
   ]
  },
  {
   "cell_type": "markdown",
   "metadata": {},
   "source": [
    "#### Most visited brand"
   ]
  },
  {
   "cell_type": "code",
   "execution_count": null,
   "metadata": {},
   "outputs": [],
   "source": [
    "brand_customers_visit = event_visit_type.groupby('brand')\n",
    "['customer_id'].nunique().sort_values(ascending=False)\n",
    "plt.figure(figsize=(15,5))\n",
    "ax = sns.barplot(brand_customers_visit)\n",
    "ax.set_title('Brands as were visited by customers')\n",
    "ax.set_ylabel('Customers count')\n",
    "plt.show()"
   ]
  },
  {
   "cell_type": "code",
   "execution_count": null,
   "metadata": {
    "scrolled": true
   },
   "outputs": [],
   "source": [
    "printmd('During the customers visit, **Apple, Sony and Samsung** brands are the **most interacted with**. As such it is advised that ShopSmart get **more products from these brands** can generate more revenue')"
   ]
  },
  {
   "cell_type": "code",
   "execution_count": null,
   "metadata": {},
   "outputs": [],
   "source": [
    "# Percentage Completion Rate\n",
    "checkedout = new_data[(new_data['event_type'] == 'checkout')]\n",
    "\n",
    "status_counts = checkedout['status'].value_counts(dropna=False)\n",
    "\n",
    "fig = go.Figure(data=go.Pie(\n",
    "    labels=status_counts.index,\n",
    "    values=status_counts, hole=0.5))\n",
    "\n",
    "\n",
    "fig.update_layout(title='Customer\\'s Transaction Checkout Status Rate')\n",
    "\n",
    "fig.show()\n"
   ]
  },
  {
   "cell_type": "code",
   "execution_count": null,
   "metadata": {},
   "outputs": [],
   "source": [
    "printmd(\"There is **no correlation** between the **quantity of product** purchased and the **price of the products**\")  "
   ]
  },
  {
   "cell_type": "code",
   "execution_count": null,
   "metadata": {},
   "outputs": [],
   "source": [
    "printmd(f'The time for **most checkout** is within **{checkedout[\"checked_out_at\"].dt.hour.value_counts().index[0]} AM**')\n",
    "# printmd()"
   ]
  },
  {
   "cell_type": "code",
   "execution_count": null,
   "metadata": {
    "scrolled": true
   },
   "outputs": [],
   "source": []
  },
  {
   "cell_type": "markdown",
   "metadata": {},
   "source": []
  },
  {
   "cell_type": "markdown",
   "metadata": {},
   "source": [
    "Customers may wish to purchase products that are the most visited in their country or continents"
   ]
  },
  {
   "cell_type": "code",
   "execution_count": null,
   "metadata": {
    "scrolled": true
   },
   "outputs": [],
   "source": [
    "printmd('Each <b>CONTINENT</b> and the product customers <b>VISITED THE MOST</b>:\\n')\n",
    "display(product_visit.reset_index(name='most visited product'))\n",
    "print('')\n",
    "printmd('Three brands seems to be the most visited in the continents, more of these brands should be made available to the continents and countries')"
   ]
  },
  {
   "cell_type": "code",
   "execution_count": null,
   "metadata": {},
   "outputs": [],
   "source": [
    "product_visit = pd.pivot(data=event_visit_type, values='brand',\n",
    "                         columns='continent').mode().stack()[0]\n",
    "product_checkout = pd.pivot(data=checkedout, values='brand',\n",
    "                            columns='continent').mode().stack()[0]\n",
    "product_result = pd.concat([product_visit,product_checkout],axis=1,\n",
    "                           ignore_index=True,names=['visit','checkout'])\n",
    "\n",
    "printmd('Each **CONTINENT** and the product customers **VISITED THE MOST**:\\n')\n",
    "display(product_result.reset_index().rename(columns={'level_0': 'continent', 0: 'most visited brand',1:'most checked out'}))\n",
    "print('')\n",
    "printmd('Three brands seem to be the most visited in the continents. More of these brands should be made available to the continents and countries.')"
   ]
  },
  {
   "cell_type": "code",
   "execution_count": null,
   "metadata": {},
   "outputs": [],
   "source": []
  },
  {
   "cell_type": "markdown",
   "metadata": {},
   "source": [
    "<a id=\"3.2\"></a>\n",
    "### 3.2 Location Analysis:\n",
    "- What is the customer's location based on the provided data?\n",
    "- How might the customer's location influence their purchasing behavior?\n"
   ]
  },
  {
   "cell_type": "markdown",
   "metadata": {},
   "source": [
    "#### customers location"
   ]
  },
  {
   "cell_type": "code",
   "execution_count": null,
   "metadata": {},
   "outputs": [],
   "source": [
    "ax = new_data.groupby('continent')['status'].value_counts().unstack().sort_values(by=['failed','cancelled','success'], ascending=False).plot(kind='bar', stacked=True, figsize=(15,5))\n",
    "plt.xticks(rotation=0)\n",
    "ax.spines['top'].set_visible(False)\n",
    "ax.spines['right'].set_visible(False)\n",
    "plt.grid(axis='y', linestyle='--', linewidth=0.5)\n",
    "plt.title('Status of transaction for Continent')\n",
    "plt.show()"
   ]
  },
  {
   "cell_type": "code",
   "execution_count": null,
   "metadata": {},
   "outputs": [],
   "source": [
    "new_data_location = new_data.groupby(['country','continent'])['customer_id'].nunique().sort_values(ascending=False).reset_index(name='count')\n",
    "plt.figure(figsize=(15,5))\n",
    "sns.barplot(new_data_location[:10], x='country', y = 'count', hue='continent')\n",
    "plt.title('Top number of customers in country')\n",
    "plt.show()\n",
    "new_data_location['percentages'] = new_data_location['count'].div(new_data_location['count'].sum())*100\n",
    "\n",
    "display(new_data_location)"
   ]
  },
  {
   "cell_type": "code",
   "execution_count": null,
   "metadata": {},
   "outputs": [],
   "source": [
    "new_data_location = new_data.groupby(['continent'])['customer_id'].nunique().sort_values(ascending=False).reset_index(name='count')\n",
    "plt.figure(figsize=(15,5))\n",
    "sns.barplot(new_data_location[:10], x='continent', y = 'count', hue='continent')\n",
    "plt.title('Top number of customers in continent')\n",
    "plt.show()\n",
    "new_data_location['percentages'] = new_data_location['count'].div(new_data_location['count'].sum())*100\n",
    "\n",
    "display(new_data_location)"
   ]
  },
  {
   "cell_type": "code",
   "execution_count": null,
   "metadata": {},
   "outputs": [],
   "source": [
    "printmd(f\"Out of the **{new_data['country'].unique().shape[0]}** Countries, **22.72%** of them are **Africans**, followed by **Asia** with **21.49%** of the customers while **Antarctica (0.36)%** which is the least\")"
   ]
  },
  {
   "cell_type": "markdown",
   "metadata": {},
   "source": [
    "#### Successful Order by Continent"
   ]
  },
  {
   "cell_type": "code",
   "execution_count": null,
   "metadata": {},
   "outputs": [],
   "source": [
    "# order by continent\n",
    "plt.figure(figsize=(15,5))\n",
    "result = new_data[new_data['status'] == 'success'].groupby('continent')['order_id'].nunique().sort_values(ascending=False)[:10]\n",
    "percentages = get_percentages(result)\n",
    "fig = px.bar(x=result.index,y=result.values,text=percentages.apply(lambda x :str(x) + '%'))\n",
    "\n",
    "fig.update_layout(title='Successful Order by Continent',xaxis_title='Continent',yaxis_title='Count')\n",
    "fig.show()"
   ]
  },
  {
   "cell_type": "code",
   "execution_count": null,
   "metadata": {},
   "outputs": [],
   "source": [
    "printmd('Africa has the most Successful Order followed by Asia and Europe')\n",
    "printmd('<b>AFRICAN CUSTOMERS (23.42%)</b> visits the website the most and there are <b>high number of CHECKOUT</b> for customers in <b>AFRICA</b>, <b>EUROPE (21.41%)</b>, and <b>ASIA (19.81%)</b>')"
   ]
  },
  {
   "cell_type": "code",
   "execution_count": null,
   "metadata": {},
   "outputs": [],
   "source": [
    "# order by continent\n",
    "plt.figure(figsize=(15,5))\n",
    "result = new_data[new_data['status'] == 'success'].\n",
    "groupby('country')['order_id'].nunique().\n",
    "sort_values(ascending=False)[:10]\n",
    "percentages = get_percentages(result)\n",
    "fig = px.bar(x=result.index,y=result.values,\n",
    "             text=percentages.apply(lambda x :str(x) + '%'))\n",
    "\n",
    "fig.update_layout(title='Top 10 Successful Order by Country',xaxis_title='Country',yaxis_title='Count')\n",
    "fig.show()"
   ]
  },
  {
   "cell_type": "markdown",
   "metadata": {},
   "source": [
    "<b>AFRICAN CUSTOMERS (23.42%)</b> visits the website the most and there are <b>high number of CHECKOUT</b> for customers in <b>AFRICA</b>, <b>EUROPE (21.41%)</b>, and <b>ASIA (19.81%)</b>\n",
    " "
   ]
  },
  {
   "cell_type": "markdown",
   "metadata": {},
   "source": [
    "#### Places where order comes from"
   ]
  },
  {
   "cell_type": "code",
   "execution_count": null,
   "metadata": {},
   "outputs": [],
   "source": [
    "pd.pivot_table(data=new_data,columns='status',\n",
    "               index='continent',aggfunc='count',\n",
    "               values='product_name')"
   ]
  },
  {
   "cell_type": "code",
   "execution_count": null,
   "metadata": {},
   "outputs": [],
   "source": []
  },
  {
   "cell_type": "code",
   "execution_count": null,
   "metadata": {},
   "outputs": [],
   "source": [
    "res = new_data.groupby(['country','event_type']).size().unstack()\n",
    "res_total = res.sum(1).sort_values(ascending=False)\n",
    "res = res.reindex(res_total.index)\n",
    "\n",
    "\n",
    "ax = res[:10].plot(kind='bar', stacked=False,figsize=(15,5)) #plot top 10 locations and their status\n",
    "plt.xlabel('Location')\n",
    "plt.ylabel('Count')\n",
    "ax.spines['top'].set_visible(False)\n",
    "ax.spines['right'].set_visible(False)\n",
    "plt.grid(axis='y', linestyle='--', linewidth=0.5)\n",
    "plt.xticks(rotation=45)\n",
    "plt.title('Status Counts for Top 10 Locations')\n",
    "plt.legend(title='Status')\n",
    "plt.show()"
   ]
  },
  {
   "cell_type": "code",
   "execution_count": null,
   "metadata": {},
   "outputs": [],
   "source": [
    "ax = new_data.groupby('country')['status'].value_counts().unstack().sort_values(by=['success','cancelled','failed'], ascending=False)[:10]\\\n",
    ".plot(kind='bar', figsize=(15,5))\n",
    "plt.xticks(rotation=0)\n",
    "ax.spines['top'].set_visible(False)\n",
    "ax.spines['right'].set_visible(False)\n",
    "plt.grid(axis='y', linestyle='--', linewidth=0.5)\n",
    "plt.title('Top 10 Status of transaction for Countries ')\n",
    "plt.show()"
   ]
  },
  {
   "cell_type": "markdown",
   "metadata": {},
   "source": [
    "#### Most Added to cart and Removed Product"
   ]
  },
  {
   "cell_type": "code",
   "execution_count": null,
   "metadata": {},
   "outputs": [],
   "source": [
    "added_removed('brand')\n",
    "added_removed('product_name')"
   ]
  },
  {
   "cell_type": "code",
   "execution_count": null,
   "metadata": {},
   "outputs": [],
   "source": [
    "printmd('Three brands seem to be the most visited in the continents. More of these brands should be made available to the continents and countries.')"
   ]
  },
  {
   "cell_type": "code",
   "execution_count": null,
   "metadata": {},
   "outputs": [],
   "source": []
  },
  {
   "cell_type": "code",
   "execution_count": null,
   "metadata": {},
   "outputs": [],
   "source": [
    "continent_status_rate = pd.pivot_table(\n",
    "    data=new_data[new_data['event_type'] == 'checkout'], \n",
    "    columns='continent', values='quantity',index = 'status',aggfunc='sum')\n",
    "continent_status_rate"
   ]
  },
  {
   "cell_type": "code",
   "execution_count": null,
   "metadata": {},
   "outputs": [],
   "source": [
    "# Calculate percentages\n",
    "total_counts = continent_status_rate.sum(axis=0)\n",
    "percentages = (continent_status_rate.div(total_counts, axis=1) * 100).round(2)\n",
    "\n",
    "# Create heatmap\n",
    "fig = go.Figure(data=go.Heatmap(\n",
    "    z=continent_status_rate.values,\n",
    "    x=percentages.columns,\n",
    "    y=percentages.index,\n",
    "    colorscale='oryel',\n",
    "    colorbar=dict(title='Percentage')\n",
    "))\n",
    "\n",
    "for i in range(len(percentages.index)):\n",
    "    for j in range(len(percentages.columns)):\n",
    "        fig.add_annotation(\n",
    "            x=percentages.columns[j],\n",
    "            y=percentages.index[i],\n",
    "            text=str(percentages.values[i, j]) + '%',\n",
    "            showarrow=False,\n",
    "            font=dict(color='white'))\n",
    "\n",
    "# Update layout\n",
    "fig.update_layout(\n",
    "    title='Successsfuly Ordered Product Quantity by Continent',\n",
    "    xaxis_title='Continent',\n",
    "    yaxis_title='Status'\n",
    ")\n",
    "\n",
    "# Show figure\n",
    "fig.show()\n"
   ]
  },
  {
   "cell_type": "markdown",
   "metadata": {},
   "source": [
    "**Successful** - Based on Location **Oceania** has the most purchase quantity followed by **Asia** and **Europe**\\\n",
    "**Cancelled** - The most are from **North America**, **Other Islands** and **South America**\\\n",
    "**Failed** - The failed purchased quantity comes from **Africa**, **Asia** and **Europe** "
   ]
  },
  {
   "cell_type": "code",
   "execution_count": null,
   "metadata": {},
   "outputs": [],
   "source": [
    "location_by_price = new_data.groupby('country')['total_order_price'].sum().sort_values(ascending=False)\n",
    "plt.figure(figsize=(15,5))\n",
    "sns.barplot(location_by_price[:10])"
   ]
  },
  {
   "cell_type": "code",
   "execution_count": null,
   "metadata": {},
   "outputs": [],
   "source": [
    "ax = new_data.groupby(['country'])['price_range'].value_counts().unstack().sort_values(by=['low','mid','high'],ascending=[False,False,False])[:10].plot(kind='bar', figsize=(15,5))\n",
    "plt.xticks(rotation=0)\n",
    "plt.title('')\n",
    "ax.spines['top'].set_visible(False)\n",
    "ax.spines['right'].set_visible(False)\n",
    "plt.legend(title='Price Range')\n",
    "plt.show()\n",
    "print('Most Customers buy mid-range Price Products except for some Customers in countries like Switzerland who purchases low-range priced products')"
   ]
  },
  {
   "cell_type": "markdown",
   "metadata": {},
   "source": [
    "### Overall Purchase Behavior: \n",
    "<a id='3.3'></a>\n",
    "\n",
    "- Based on the data provided, what insights can you draw about this customer's overall behavior on the website?\n",
    "\n",
    "- How might these insights inform marketing strategies or personalized recommendations for this customer?\n"
   ]
  },
  {
   "cell_type": "markdown",
   "metadata": {},
   "source": [
    "#### currency and ease of payment"
   ]
  },
  {
   "cell_type": "code",
   "execution_count": null,
   "metadata": {},
   "outputs": [],
   "source": [
    "plt.figure(figsize=(15, 5))\n",
    "ax = sns.barplot(data=new_data.groupby(['currency', 'status']).size().reset_index(), x='currency', y=0, hue='status')\n",
    "ax.spines['top'].set_visible(False)\n",
    "ax.spines['right'].set_visible(False)\n",
    "plt.xlabel('Currency')\n",
    "plt.ylabel('Count')\n",
    "plt.title('Status Counts by Currency')\n",
    "plt.legend(title='Status')\n",
    "plt.show()\n"
   ]
  },
  {
   "cell_type": "markdown",
   "metadata": {},
   "source": [
    "Though the difference on some of the currency used in transaction is not quite much for GBP and NGN, NAIRA shows to be the most consistent followed by GBP and USD the last."
   ]
  },
  {
   "cell_type": "markdown",
   "metadata": {},
   "source": [
    "#### Removed From Cart"
   ]
  },
  {
   "cell_type": "code",
   "execution_count": null,
   "metadata": {},
   "outputs": [],
   "source": [
    "removed_from_cart = new_data[new_data['event_type'] == 'remove_from_cart'].groupby(['product_name'])['customer_id'].nunique().sort_values()\n",
    "printmd(f'**Total Removed Product = {removed_from_cart.sum()}**')\n",
    "printmd('**Removed from Cart Percentage:**')\n",
    "removed_from_cart/removed_from_cart.sum()*100"
   ]
  },
  {
   "cell_type": "code",
   "execution_count": null,
   "metadata": {},
   "outputs": [],
   "source": [
    "printmd('The most removed from cart Product from is **fitbit charge 4(6.87%)** and the least removed is **Nintendo Switch (6.4%)**' )"
   ]
  },
  {
   "cell_type": "markdown",
   "metadata": {},
   "source": []
  },
  {
   "cell_type": "code",
   "execution_count": null,
   "metadata": {},
   "outputs": [],
   "source": []
  },
  {
   "cell_type": "markdown",
   "metadata": {},
   "source": [
    "#### Items Based on Event Type"
   ]
  },
  {
   "cell_type": "code",
   "execution_count": null,
   "metadata": {},
   "outputs": [],
   "source": []
  },
  {
   "cell_type": "code",
   "execution_count": null,
   "metadata": {},
   "outputs": [],
   "source": [
    "get_max_n_min_product('visit','visited')"
   ]
  },
  {
   "cell_type": "code",
   "execution_count": null,
   "metadata": {},
   "outputs": [],
   "source": [
    "get_max_n_min_product('add_to_cart','added to cart')"
   ]
  },
  {
   "cell_type": "code",
   "execution_count": null,
   "metadata": {},
   "outputs": [],
   "source": [
    "get_max_n_min_product('remove_from_cart','removed from cart')"
   ]
  },
  {
   "cell_type": "code",
   "execution_count": null,
   "metadata": {},
   "outputs": [],
   "source": [
    "get_max_n_min_product('checkout','checked out')"
   ]
  },
  {
   "cell_type": "markdown",
   "metadata": {},
   "source": [
    "##### The most visted items is also the most added, most removed and Checked out, Customers are more likely to visit the Canon EOS R5 Camera\n",
    "\n",
    "The **most visited brands** are **Apple** and it the **most checked out** brand but are not the most checked out Product\n",
    "\n",
    "It is obvious that Customers love purchasing the **Canon EOS R5 Camera** product from the **Canon** brand but **Apple** Products still remains the lead in the **Most Checked Out Brand**"
   ]
  },
  {
   "cell_type": "markdown",
   "metadata": {},
   "source": [
    "#### Countries with most visit, goods bought"
   ]
  },
  {
   "cell_type": "code",
   "execution_count": null,
   "metadata": {},
   "outputs": [],
   "source": [
    "successful_checkedout_country_total = new_data[(new_data['status'] == 'success') & (new_data['event_type'] == 'checkout')].groupby(['country','continent'])[['total_order_price']].sum().sort_values(by='total_order_price', ascending=False).reset_index()\n",
    "successful_checkedout_country_total"
   ]
  },
  {
   "cell_type": "code",
   "execution_count": null,
   "metadata": {},
   "outputs": [],
   "source": [
    "plt.figure(figsize=(20,5))\n",
    "sns.barplot(data=successful_checkedout_country_total[:10],x='country',y='total_order_price',hue='continent')\n",
    "plt.xlabel('Total Revenue')\n",
    "plt.title('Top 10 Countries in Revenue')"
   ]
  },
  {
   "cell_type": "markdown",
   "metadata": {},
   "source": [
    "#### Customers Order"
   ]
  },
  {
   "cell_type": "code",
   "execution_count": null,
   "metadata": {},
   "outputs": [],
   "source": [
    "# looking at the status of customers that checked out\n",
    "\n",
    "res = new_data[new_data['order_id'].notna()].groupby('customer_id')['status'].unique().value_counts()\n",
    "\n",
    "fig = go.Figure(data=go.Pie(labels=res.index, values=res, hole=0.5))\n",
    "\n",
    "\n",
    "fig.update_layout(title='Customer\\'s Transaction Checkout Status Rate')\n",
    "\n",
    "fig.show()\n",
    "\n",
    "printmd('Out of <b>9165</b> customers that ordered, customers that <b>cancelled</b> order are <b>33.7%</b>, the percentage of <b>33.6% failed</b> transactions and the percentage of <b>33.6% successful</b> order')\n"
   ]
  },
  {
   "cell_type": "code",
   "execution_count": null,
   "metadata": {},
   "outputs": [],
   "source": [
    "checkedout_only = new_data[(new_data['event_type'] =='checkout')]\n",
    "result = checkedout_only.groupby(['number_of_days_transaction','status'])['total_order_price'].mean().unstack()\n",
    "result.plot(kind='line',figsize=(15,5))\n",
    "# plt.xlabel('Revenue')\n",
    "# plt.ylabel('NUmber of days')\n",
    "# plt.title('Number of days required to complete transaction by customers')"
   ]
  },
  {
   "cell_type": "code",
   "execution_count": null,
   "metadata": {
    "scrolled": true
   },
   "outputs": [],
   "source": [
    "plt.figure(figsize=(15,5))\n",
    "most_revenue_by_brand = new_data[(new_data['status'] == 'success') & (new_data['event_type'] == 'checkout')].groupby('brand')['total_order_price'].sum().sort_values(ascending=False)\n",
    "sns.barplot(data=most_revenue_by_brand)\n",
    "plt.title('Revenue by brand')\n",
    "plt.ylabel('Total Revenue')"
   ]
  },
  {
   "cell_type": "markdown",
   "metadata": {},
   "source": [
    "**Canon** is the brand that **generate the most revenue** followed by ***Samsung*** while **Starbucks and Coca-Cola**\n",
    "are the least revenue generating brands"
   ]
  },
  {
   "cell_type": "markdown",
   "metadata": {},
   "source": [
    "Many Customers who use than an average of **2 days** complete their transaction successfully  \n",
    "Transactions on **day 4** to **day 6** are likely to get **cancelled or fail**  \n",
    "Transactions of more than **2 days** should be reminded Customers about their purchase so they dont forget"
   ]
  },
  {
   "cell_type": "markdown",
   "metadata": {},
   "source": [
    "#### Successfully Checked out Products and Revenue"
   ]
  },
  {
   "cell_type": "code",
   "execution_count": null,
   "metadata": {},
   "outputs": [],
   "source": [
    "result = checkedout_only[checkedout_only['status'] == 'success'].groupby('product_name')['total_order_price'].sum().sort_values(ascending=False)\n",
    "percentages = get_percentages(result)\n",
    "fig = px.bar(x=result.index, y=result.values, text=percentages.apply(lambda y :str(y) + '%'), height=400, width=900)\n",
    "fig.update_layout(title='Successfully Purchased Product and Their Revenue')\n",
    "fig.update_yaxes(title_text='Revenue')\n",
    "fig.update_xaxes(title_text='Product')\n",
    "fig.show()\n"
   ]
  },
  {
   "cell_type": "code",
   "execution_count": null,
   "metadata": {},
   "outputs": [],
   "source": [
    "result = checkedout_only.groupby(['continent'])['number_of_days_transaction'].mean().reset_index().sort_values('number_of_days_transaction', ascending=False)\n",
    "display(result)\n",
    "plt.figure(figsize=(15,5))\n",
    "sns.barplot(result,x='continent',y='number_of_days_transaction')"
   ]
  },
  {
   "cell_type": "code",
   "execution_count": null,
   "metadata": {},
   "outputs": [],
   "source": [
    "result = checkedout_only.groupby(['country','continent'])['number_of_days_transaction'].mean().reset_index().sort_values('number_of_days_transaction', ascending=False)\n",
    "result\n",
    "fig, axes = plt.subplots(2,1, figsize=(15,5), sharey=True)\n",
    "axes = axes.flatten()\n",
    "sns.barplot(result[:10],x='country',y='number_of_days_transaction', hue='continent',ax=axes[0],legend=False).set_title('Top 10')\n",
    "sns.barplot(result.tail(10),x='country',y='number_of_days_transaction', hue='continent',ax=axes[1],legend=False).set_title('Last 10')\n",
    "plt.suptitle('Number of days by Customers to Complete Purchase')\n",
    "plt.tight_layout()\n",
    "axes[0].set_ylabel('Number of Days')\n",
    "axes[1].set_ylabel('Number of Days')"
   ]
  },
  {
   "cell_type": "markdown",
   "metadata": {},
   "source": [
    "It is observed that **Isreali , Sri Lankans (Asia), Slovenia(Europe), Libya(Africa)** takes the highest average of Days  \n",
    "**Qatar(Africa), Svalbard andJan Mayen Islands(Other Islands), Maldives(Asia)** takes the least days to complete purchase\n",
    "\n",
    "Creating of **discount/vouchers** which will help them to complete transactions should be introduced,\n",
    "Customers from Continents and Countries that **take less time** should be able to **improve their service** e.g. speeding up support incase there is a required service from the support department can help keep these customers in making purchase in little timeframe"
   ]
  }
 ],
 "metadata": {
  "kernelspec": {
   "display_name": "Python 3 (ipykernel)",
   "language": "python",
   "name": "python3"
  },
  "language_info": {
   "codemirror_mode": {
    "name": "ipython",
    "version": 3
   },
   "file_extension": ".py",
   "mimetype": "text/x-python",
   "name": "python",
   "nbconvert_exporter": "python",
   "pygments_lexer": "ipython3",
   "version": "3.11.7"
  },
  "toc-autonumbering": false,
  "toc-showcode": false,
  "toc-showmarkdowntxt": false,
  "toc-showtags": false
 },
 "nbformat": 4,
 "nbformat_minor": 4
}
